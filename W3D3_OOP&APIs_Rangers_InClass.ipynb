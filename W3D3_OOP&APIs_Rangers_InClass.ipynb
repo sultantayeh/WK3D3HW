{
 "cells": [
  {
   "cell_type": "markdown",
   "metadata": {},
   "source": [
    "# Object Oriented Programming 2 - examples and APIs\n"
   ]
  },
  {
   "cell_type": "markdown",
   "metadata": {},
   "source": [
    "## Tasks Today:\n",
    "\n",
    "   \n",
    "\n",
    "1) <b>Restful APIs & HTTP Requests </b> <br>\n",
    " &nbsp;&nbsp;&nbsp;&nbsp; a) What are APIs <br>\n",
    "  &nbsp;&nbsp;&nbsp;&nbsp; b) What does HTTP stand for, request methods, status codes <br>\n",
    " &nbsp;&nbsp;&nbsp;&nbsp; c) Making API requests and retrieving/jsonifying data <br>\n",
    " &nbsp;&nbsp;&nbsp;&nbsp; d) Using APIs requests within functions & classes <br>\n",
    " 2) <b>Working with the Pokemon API </b> <br>\n",
    " &nbsp;&nbsp;&nbsp;&nbsp; a) Making Requests to the Pokemon API<br>\n",
    "  &nbsp;&nbsp;&nbsp;&nbsp; b) Creating a function to make API Requests <br>\n",
    " &nbsp;&nbsp;&nbsp;&nbsp; c) Creating a Pokemon class and instantiating Pokemon objects<br>\n",
    " &nbsp;&nbsp;&nbsp;&nbsp; d) Create an Evolver class that inherits from Pokemon class <br>\n",
    " "
   ]
  },
  {
   "cell_type": "markdown",
   "metadata": {},
   "source": [
    "# working with APis"
   ]
  },
  {
   "cell_type": "markdown",
   "metadata": {},
   "source": [
    "<p> What exactly is an API? <br> <br>\n",
    "API is the acronym for Application Programming Interface, which is a software intermediary that allows two applications to talk to each other. Each time you use an app like Facebook, send an instant message, or check the weather on your phone, you're using an API. </p>"
   ]
  },
  {
   "cell_type": "markdown",
   "metadata": {},
   "source": [
    "### The Poke API  allows you to retreive a pokemon's information from PokeAPI https://pokeapi.co/\n",
    "\n"
   ]
  },
  {
   "cell_type": "code",
   "execution_count": 2,
   "metadata": {},
   "outputs": [],
   "source": [
    "import requests"
   ]
  },
  {
   "cell_type": "markdown",
   "metadata": {},
   "source": [
    "### Display a Pokemon's name, weight, abilities, and types"
   ]
  },
  {
   "cell_type": "code",
   "execution_count": 4,
   "metadata": {},
   "outputs": [
    {
     "name": "stdout",
     "output_type": "stream",
     "text": [
      "Name: pikachu\n",
      "Weight: 60\n",
      "Abilities: static, lightning-rod\n",
      "Types: electric\n"
     ]
    }
   ],
   "source": [
    "import requests\n",
    "pokemon_name = 'pikachu'\n",
    "\n",
    "# Make the API Request\n",
    "url = f'https://pokeapi.co/api/v2/pokemon/{pokemon_name}'\n",
    "response = requests.get(url)\n",
    "\n",
    "# Check if the request was successful\n",
    "if response.status_code == 200:\n",
    "    # Parse response\n",
    "    data = response.json()\n",
    "    name = data['name']\n",
    "    weight = data['weight']\n",
    "    abilities = [ability['ability']['name'] for ability in data['abilities']]\n",
    "    types = [type['type']['name'] for type in data['types']]\n",
    "    \n",
    "    # Step 5: Display the Information\n",
    "    print(f\"Name: {name}\")\n",
    "    print(f\"Weight: {weight}\")\n",
    "    print(f\"Abilities: {', '.join(abilities)}\")\n",
    "    print(f\"Types: {', '.join(types)}\")\n",
    "else:\n",
    "    print(\"Failed to retrieve Pokémon information\")\n"
   ]
  },
  {
   "cell_type": "markdown",
   "metadata": {},
   "source": [
    "#### Create a function to Pull in your own Pokemon's data "
   ]
  },
  {
   "cell_type": "code",
   "execution_count": 5,
   "metadata": {},
   "outputs": [
    {
     "name": "stdout",
     "output_type": "stream",
     "text": [
      "Name: Pikachu\n",
      "Weight: 60\n",
      "Abilities: static, lightning-rod\n",
      "Types: electric\n"
     ]
    }
   ],
   "source": [
    "def get_pokemon_info(pokemon_name):\n",
    "    url = f'https://pokeapi.co/api/v2/pokemon/{pokemon_name.lower()}'\n",
    "    response = requests.get(url)\n",
    "\n",
    "    if response.status_code == 200:\n",
    "        data = response.json()\n",
    "        name = data['name']\n",
    "        weight = data['weight']\n",
    "        abilities = [ability['ability']['name'] for ability in data['abilities']]\n",
    "        types = [type['type']['name'] for type in data['types']]\n",
    "        \n",
    "        print(f\"Name: {name.capitalize()}\")\n",
    "        print(f\"Weight: {weight}\")\n",
    "        print(f\"Abilities: {', '.join(abilities)}\")\n",
    "        print(f\"Types: {', '.join(types)}\")\n",
    "    else:\n",
    "        print(\"Failed to retrieve Pokémon information\")\n",
    "\n",
    "# Example usage:\n",
    "get_pokemon_info('Pikachu')\n"
   ]
  },
  {
   "cell_type": "markdown",
   "metadata": {},
   "source": [
    "Choose your pokemon"
   ]
  },
  {
   "cell_type": "code",
   "execution_count": 6,
   "metadata": {},
   "outputs": [],
   "source": [
    "chosen_pokemon = \"Turtwig\""
   ]
  },
  {
   "cell_type": "markdown",
   "metadata": {},
   "source": [
    "#### Use your function to create a dictionary of your favorite 6 pokemon"
   ]
  },
  {
   "cell_type": "code",
   "execution_count": 7,
   "metadata": {},
   "outputs": [
    {
     "name": "stdout",
     "output_type": "stream",
     "text": [
      "Name: Heracross\n",
      "Weight: 540\n",
      "Abilities: swarm, guts, moxie\n",
      "Types: bug, fighting\n",
      "Name: Vaporeon\n",
      "Weight: 290\n",
      "Abilities: water-absorb, hydration\n",
      "Types: water\n",
      "Name: Flygon\n",
      "Weight: 820\n",
      "Abilities: levitate\n",
      "Types: ground, dragon\n",
      "Name: Charizard\n",
      "Weight: 905\n",
      "Abilities: blaze, solar-power\n",
      "Types: fire, flying\n",
      "Name: Pidgeot\n",
      "Weight: 395\n",
      "Abilities: keen-eye, tangled-feet, big-pecks\n",
      "Types: normal, flying\n",
      "Name: Crobat\n",
      "Weight: 750\n",
      "Abilities: inner-focus, infiltrator\n",
      "Types: poison, flying\n"
     ]
    }
   ],
   "source": [
    "# Place all 6 of your pokemon on the object below, each pokemon should have at least as much info as Pikachu did.\n",
    "party = ['heracross', 'vaporeon', 'flygon', 'charizard', 'pidgeot', 'crobat']\n",
    "\n",
    "# Retrieve pokemon party\n",
    "for pokemon in party:\n",
    "    get_pokemon_info(pokemon)"
   ]
  },
  {
   "cell_type": "markdown",
   "metadata": {},
   "source": [
    "## Lets create a class called 'Pokemon' and create our pokemon as instances"
   ]
  },
  {
   "cell_type": "code",
   "execution_count": 8,
   "metadata": {},
   "outputs": [
    {
     "name": "stdout",
     "output_type": "stream",
     "text": [
      "\n",
      "Name: Heracross\n",
      "Weight: 540\n",
      "Abilities: swarm, guts, moxie\n",
      "Types: bug, fighting\n",
      "\n",
      "Name: Vaporeon\n",
      "Weight: 290\n",
      "Abilities: water-absorb, hydration\n",
      "Types: water\n",
      "\n",
      "Name: Flygon\n",
      "Weight: 820\n",
      "Abilities: levitate\n",
      "Types: ground, dragon\n",
      "\n",
      "Name: Charizard\n",
      "Weight: 905\n",
      "Abilities: blaze, solar-power\n",
      "Types: fire, flying\n",
      "\n",
      "Name: Pidgeot\n",
      "Weight: 395\n",
      "Abilities: keen-eye, tangled-feet, big-pecks\n",
      "Types: normal, flying\n",
      "\n",
      "Name: Crobat\n",
      "Weight: 750\n",
      "Abilities: inner-focus, infiltrator\n",
      "Types: poison, flying\n"
     ]
    }
   ],
   "source": [
    "import requests\n",
    "\n",
    "class Pokemon:\n",
    "    def __init__(self, name):\n",
    "        self.name = name.lower()\n",
    "        self.weight = None\n",
    "        self.abilities = []\n",
    "        self.types = []\n",
    "\n",
    "    def get_info(self):\n",
    "        url = f'https://pokeapi.co/api/v2/pokemon/{self.name}'\n",
    "        response = requests.get(url)\n",
    "\n",
    "        if response.status_code == 200:\n",
    "            data = response.json()\n",
    "            self.weight = data['weight']\n",
    "            self.abilities = [ability['ability']['name'] for ability in data['abilities']]\n",
    "            self.types = [type['type']['name'] for type in data['types']]\n",
    "            \n",
    "            print(f\"\\nName: {self.name.capitalize()}\")\n",
    "            print(f\"Weight: {self.weight}\")\n",
    "            print(f\"Abilities: {', '.join(self.abilities)}\")\n",
    "            print(f\"Types: {', '.join(self.types)}\")\n",
    "        else:\n",
    "            print(f\"Failed to retrieve information for {self.name.capitalize()}\")\n",
    "\n",
    "# Create instances for each Pokémon in your party\n",
    "party = [\n",
    "    Pokemon('heracross'), Pokemon('vaporeon'), \n",
    "    Pokemon('flygon'), Pokemon('charizard'), \n",
    "    Pokemon('pidgeot'), Pokemon('crobat')\n",
    "]\n",
    "\n",
    "# Retrieve and display information for each Pokémon\n",
    "for pokemon in party:\n",
    "    pokemon.get_info()\n"
   ]
  },
  {
   "cell_type": "markdown",
   "metadata": {},
   "source": [
    "### Let's Catch some Pokemon"
   ]
  },
  {
   "cell_type": "markdown",
   "metadata": {},
   "source": [
    "## Exercise 1:"
   ]
  },
  {
   "cell_type": "markdown",
   "metadata": {},
   "source": [
    "### Create a Method prints an image of your pokemon\n",
    "\n",
    "<p>HINT: You may need another attribute as well to store your image url within. </p>"
   ]
  },
  {
   "cell_type": "code",
   "execution_count": null,
   "metadata": {},
   "outputs": [],
   "source": [
    "# Display an image in Jupyter notebook\n",
    "from IPython.display import Image\n",
    "\n",
    "display(Image( 'https://i.redd.it/45n4mhusa8l41.jpg', width = 300))\n"
   ]
  },
  {
   "cell_type": "code",
   "execution_count": null,
   "metadata": {},
   "outputs": [],
   "source": [
    "# recreate your pokemon class here\n",
    "\n",
    "        \n",
    "    "
   ]
  },
  {
   "cell_type": "markdown",
   "metadata": {},
   "source": [
    "## Exercise 2:"
   ]
  },
  {
   "cell_type": "markdown",
   "metadata": {},
   "source": [
    "### Create a Method that evolves your Pokemon\n",
    "If your pokemon can't evolve any further print a message that says \"\\<name of pokemon> can't evolve.\""
   ]
  },
  {
   "cell_type": "markdown",
   "metadata": {},
   "source": [
    "Now let's evolve a few"
   ]
  },
  {
   "cell_type": "code",
   "execution_count": null,
   "metadata": {
    "scrolled": true
   },
   "outputs": [],
   "source": [
    "import requests\n",
    "# recreate your pokemon class here\n"
   ]
  },
  {
   "cell_type": "code",
   "execution_count": null,
   "metadata": {},
   "outputs": [],
   "source": [
    "## Evolver class should inherit pokemon class\n"
   ]
  },
  {
   "cell_type": "markdown",
   "metadata": {},
   "source": [
    "#  Final Exercise: <br> <br>Create a Move_Tutor Class that in herits from the Pokemon parent class.\n",
    "\n",
    "<p>This class should have a list attribute (move_list) that holds pokemon moves which should be populated with an api call to the PokeApi moves section  (just like we did with abilities and types in the Pokemon class example). Finally create a class method that teaches your pokemon up to 4 moves. This method should take in a user input to what move they would like to teach and do a membership inside the move_list. If the move exists inside the move_list the pokemon can learn that move and append to the final taught_moves list. </p> \n",
    "\n"
   ]
  },
  {
   "cell_type": "code",
   "execution_count": 14,
   "metadata": {},
   "outputs": [
    {
     "name": "stdout",
     "output_type": "stream",
     "text": [
      "Name: Charizard\n",
      "Weight: 905\n",
      "Abilities: blaze, solar-power\n",
      "Types: fire, flying\n",
      "Teaching moves to Charizard\n",
      "Charizard has learned fly!\n",
      "Charizard already knows fly.\n",
      "Charizard has learned headbutt!\n",
      "Charizard has learned mega-kick!\n",
      "Charizard can't learn machine.\n",
      "Charizard has learned mega-punch!\n",
      "Charizard's final moves: fly, headbutt, mega-kick, mega-punch\n",
      "\n"
     ]
    }
   ],
   "source": [
    "import requests\n",
    "\n",
    "class Pokemon:\n",
    "    def __init__(self, name):\n",
    "        self.name = name.lower()\n",
    "        self.weight = None\n",
    "        self.abilities = []\n",
    "        self.types = []\n",
    "\n",
    "    def get_info(self):\n",
    "        url = f'https://pokeapi.co/api/v2/pokemon/{self.name}'\n",
    "        response = requests.get(url)\n",
    "\n",
    "        # check if request was successful\n",
    "        if response.status_code == 200:\n",
    "            data = response.json()\n",
    "            \n",
    "            # get weight of pokemon\n",
    "            self.weight = data['weight']\n",
    "            \n",
    "            # get all pokemon moves\n",
    "            for ability in data['abilities']:\n",
    "                self.abilities.append(ability['ability']['name'])\n",
    "            \n",
    "            # get all pokemon types\n",
    "            for element_type in data['types']:\n",
    "                self.types.append(element_type['type']['name'])\n",
    "            \n",
    "            print(f\"Name: {self.name.capitalize()}\")\n",
    "            print(f\"Weight: {self.weight}\")\n",
    "            print(f\"Abilities: {', '.join(self.abilities)}\")\n",
    "            print(f\"Types: {', '.join(self.types)}\")\n",
    "        else:\n",
    "            print(f\"Failed to retrieve information for {self.name.capitalize()}\")\n",
    "\n",
    "class Move_Tutor(Pokemon):\n",
    "    def __init__(self, name):\n",
    "        # initialize Pokemon class\n",
    "        super().__init__(name)\n",
    "        self.move_list = self.get_moves()\n",
    "        self.taught_moves = []\n",
    "\n",
    "    def get_moves(self):\n",
    "        # get all moves for pokemon\n",
    "        url = f'https://pokeapi.co/api/v2/pokemon/{self.name}'\n",
    "        response = requests.get(url)\n",
    "        moves = []\n",
    "        if response.status_code == 200:\n",
    "            data = response.json()\n",
    "            for move in data['moves']:\n",
    "                moves.append(move['move']['name'])\n",
    "        return moves\n",
    "\n",
    "    def teach_move(self):\n",
    "        print(f\"Teaching moves to {self.name.capitalize()}\")\n",
    "        while len(self.taught_moves) < 4:\n",
    "            move = input(\"Enter a move to teach (or 'exit' to stop): \").lower()\n",
    "            if move == 'exit':\n",
    "                break\n",
    "            if move in self.move_list:\n",
    "                if move not in self.taught_moves:\n",
    "                    self.taught_moves.append(move)\n",
    "                    print(f\"{self.name.capitalize()} has learned {move}!\")\n",
    "                else:\n",
    "                    print(f\"{self.name.capitalize()} already knows {move}.\")\n",
    "            else:\n",
    "                print(f\"{self.name.capitalize()} can't learn {move}.\")\n",
    "        print(f\"{self.name.capitalize()}'s final moves: {', '.join(self.taught_moves)}\\n\")\n",
    "\n",
    "# create instance of Move_Tutor class\n",
    "charizard = Move_Tutor('charizard')\n",
    "\n",
    "# display information for Charizard\n",
    "charizard.get_info()\n",
    "\n",
    "# teach moves to Charizard\n",
    "charizard.teach_move()"
   ]
  }
 ],
 "metadata": {
  "kernelspec": {
   "display_name": "Python 3 (ipykernel)",
   "language": "python",
   "name": "python3"
  },
  "language_info": {
   "codemirror_mode": {
    "name": "ipython",
    "version": 3
   },
   "file_extension": ".py",
   "mimetype": "text/x-python",
   "name": "python",
   "nbconvert_exporter": "python",
   "pygments_lexer": "ipython3",
   "version": "3.11.5"
  }
 },
 "nbformat": 4,
 "nbformat_minor": 4
}
